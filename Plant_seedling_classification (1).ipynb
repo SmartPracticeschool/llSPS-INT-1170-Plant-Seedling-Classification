{
  "nbformat": 4,
  "nbformat_minor": 0,
  "metadata": {
    "colab": {
      "name": "Plant_seedling_classification.ipynb",
      "provenance": []
    },
    "kernelspec": {
      "name": "python3",
      "display_name": "Python 3"
    }
  },
  "cells": [
    {
      "cell_type": "code",
      "metadata": {
        "id": "NS04grNUPVCK",
        "colab_type": "code",
        "colab": {}
      },
      "source": [
        ""
      ],
      "execution_count": 0,
      "outputs": []
    },
    {
      "cell_type": "code",
      "metadata": {
        "id": "Mdv4JhBSUzf9",
        "colab_type": "code",
        "colab": {}
      },
      "source": [
        "from google.colab import drive\n",
        "drive.mount('/content/drive')"
      ],
      "execution_count": 0,
      "outputs": []
    },
    {
      "cell_type": "code",
      "metadata": {
        "id": "o2p9kzcUVHn6",
        "colab_type": "code",
        "outputId": "fe00f960-1fc9-4ad8-ea8c-0a42aac5fe4e",
        "colab": {
          "base_uri": "https://localhost:8080/",
          "height": 34
        }
      },
      "source": [
        "from keras.preprocessing.image import ImageDataGenerator \n",
        "from keras.models import Sequential \n",
        "from keras.layers import Conv2D, MaxPooling2D \n",
        "from keras.layers import Activation, Dropout, Flatten, Dense \n",
        "from keras import backend as K \n",
        "  \n",
        "img_width, img_height = 224, 224"
      ],
      "execution_count": 1,
      "outputs": [
        {
          "output_type": "stream",
          "text": [
            "Using TensorFlow backend.\n"
          ],
          "name": "stderr"
        }
      ]
    },
    {
      "cell_type": "code",
      "metadata": {
        "id": "_wLocgETVHit",
        "colab_type": "code",
        "colab": {}
      },
      "source": [
        "train_data_dir = '/content/drive/My Drive/Train_Test_Plant_seedling/Train_Test_Plant_seedling (1)/train_set'\n",
        "validation_data_dir = '/content/drive/My Drive/Train_Test_Plant_seedling/Train_Test_Plant_seedling (1)/test_set'\n",
        "nb_train_samples = 400 \n",
        "nb_validation_samples = 100\n",
        "epochs = 10\n",
        "batch_size = 16\n",
        "  "
      ],
      "execution_count": 0,
      "outputs": []
    },
    {
      "cell_type": "code",
      "metadata": {
        "id": "xBb6GvI9YLQG",
        "colab_type": "code",
        "colab": {}
      },
      "source": [
        "if K.image_data_format() == 'channels_first': \n",
        "    input_shape = (3, img_width, img_height) \n",
        "else: \n",
        "    input_shape = (img_width, img_height, 3) \n",
        "  "
      ],
      "execution_count": 0,
      "outputs": []
    },
    {
      "cell_type": "code",
      "metadata": {
        "id": "d2O6hmcggbSQ",
        "colab_type": "code",
        "colab": {}
      },
      "source": [
        "model = Sequential() \n",
        "model.add(Conv2D(32, (2, 2), input_shape = input_shape)) \n",
        "model.add(Activation('relu')) \n",
        "model.add(MaxPooling2D(pool_size =(2, 2))) \n",
        "  \n",
        "model.add(Conv2D(32, (2, 2))) \n",
        "model.add(Activation('relu')) \n",
        "model.add(MaxPooling2D(pool_size =(2, 2))) \n",
        "  \n",
        "model.add(Conv2D(64, (2, 2))) \n",
        "model.add(Activation('relu')) \n",
        "model.add(MaxPooling2D(pool_size =(2, 2))) \n",
        "  \n",
        "model.add(Flatten()) \n",
        "model.add(Dense(64)) \n",
        "model.add(Activation('relu')) \n",
        "model.add(Dropout(0.5)) \n",
        "model.add(Dense(1)) \n",
        "model.add(Activation('sigmoid')) "
      ],
      "execution_count": 0,
      "outputs": []
    },
    {
      "cell_type": "code",
      "metadata": {
        "id": "m3S7AyPTghVc",
        "colab_type": "code",
        "colab": {}
      },
      "source": [
        "model.compile(loss ='binary_crossentropy', \n",
        "                     optimizer ='rmsprop', \n",
        "                   metrics =['accuracy']) \n",
        "  "
      ],
      "execution_count": 0,
      "outputs": []
    },
    {
      "cell_type": "code",
      "metadata": {
        "id": "VNSE18Lrgnpx",
        "colab_type": "code",
        "colab": {}
      },
      "source": [
        "  \n",
        "train_datagen = ImageDataGenerator( \n",
        "                rescale = 1. / 255, \n",
        "                 shear_range = 0.2, \n",
        "                  zoom_range = 0.2, \n",
        "            horizontal_flip = True) \n",
        "  "
      ],
      "execution_count": 0,
      "outputs": []
    },
    {
      "cell_type": "code",
      "metadata": {
        "id": "CBOyc4kRgrEG",
        "colab_type": "code",
        "colab": {}
      },
      "source": [
        "test_datagen = ImageDataGenerator(rescale = 1. / 255) "
      ],
      "execution_count": 0,
      "outputs": []
    },
    {
      "cell_type": "code",
      "metadata": {
        "id": "gC513al1gvOl",
        "colab_type": "code",
        "outputId": "3beee3ad-396d-43e6-9ff0-14dae3e1bda5",
        "colab": {
          "base_uri": "https://localhost:8080/",
          "height": 50
        }
      },
      "source": [
        "train_generator = train_datagen.flow_from_directory(train_data_dir, \n",
        "                              target_size =(img_width, img_height), \n",
        "                     batch_size = batch_size, class_mode ='binary') \n",
        "  \n",
        "validation_generator = test_datagen.flow_from_directory( \n",
        "                                    validation_data_dir, \n",
        "                   target_size =(img_width, img_height), \n",
        "          batch_size = batch_size, class_mode ='binary') \n",
        "  "
      ],
      "execution_count": 8,
      "outputs": [
        {
          "output_type": "stream",
          "text": [
            "Found 726 images belonging to 2 classes.\n",
            "Found 116 images belonging to 2 classes.\n"
          ],
          "name": "stdout"
        }
      ]
    },
    {
      "cell_type": "code",
      "metadata": {
        "id": "IGMZ2lc9g1OD",
        "colab_type": "code",
        "outputId": "41dc5ad3-933a-4d2a-9e51-7d8faeb82da5",
        "colab": {
          "base_uri": "https://localhost:8080/",
          "height": 390
        }
      },
      "source": [
        "model.fit_generator(train_generator, \n",
        "    steps_per_epoch = nb_train_samples // batch_size, \n",
        "    epochs = epochs, validation_data = validation_generator, \n",
        "    validation_steps = nb_validation_samples // batch_size) \n",
        "  "
      ],
      "execution_count": 9,
      "outputs": [
        {
          "output_type": "stream",
          "text": [
            "Epoch 1/10\n",
            "25/25 [==============================] - 312s 12s/step - loss: 0.7559 - accuracy: 0.5600 - val_loss: 0.7335 - val_accuracy: 0.5208\n",
            "Epoch 2/10\n",
            "25/25 [==============================] - 274s 11s/step - loss: 0.6631 - accuracy: 0.6692 - val_loss: 0.6143 - val_accuracy: 0.7262\n",
            "Epoch 3/10\n",
            "25/25 [==============================] - 24s 977ms/step - loss: 0.5033 - accuracy: 0.7385 - val_loss: 1.6067 - val_accuracy: 0.2262\n",
            "Epoch 4/10\n",
            "25/25 [==============================] - 22s 880ms/step - loss: 0.4337 - accuracy: 0.8075 - val_loss: 0.9180 - val_accuracy: 0.8452\n",
            "Epoch 5/10\n",
            "25/25 [==============================] - 25s 994ms/step - loss: 0.4534 - accuracy: 0.7590 - val_loss: 0.5412 - val_accuracy: 0.6042\n",
            "Epoch 6/10\n",
            "25/25 [==============================] - 22s 886ms/step - loss: 0.3804 - accuracy: 0.8350 - val_loss: 0.3991 - val_accuracy: 0.6429\n",
            "Epoch 7/10\n",
            "25/25 [==============================] - 24s 945ms/step - loss: 0.3615 - accuracy: 0.8385 - val_loss: 0.2647 - val_accuracy: 0.7619\n",
            "Epoch 8/10\n",
            "25/25 [==============================] - 23s 906ms/step - loss: 0.3540 - accuracy: 0.8775 - val_loss: 0.4306 - val_accuracy: 0.6310\n",
            "Epoch 9/10\n",
            "25/25 [==============================] - 23s 921ms/step - loss: 0.3268 - accuracy: 0.8744 - val_loss: 0.8127 - val_accuracy: 0.6667\n",
            "Epoch 10/10\n",
            "25/25 [==============================] - 24s 973ms/step - loss: 0.3177 - accuracy: 0.8700 - val_loss: 0.6335 - val_accuracy: 0.7381\n"
          ],
          "name": "stdout"
        },
        {
          "output_type": "execute_result",
          "data": {
            "text/plain": [
              "<keras.callbacks.callbacks.History at 0x7f2cba284fd0>"
            ]
          },
          "metadata": {
            "tags": []
          },
          "execution_count": 9
        }
      ]
    },
    {
      "cell_type": "code",
      "metadata": {
        "id": "WS-UFXgig7gg",
        "colab_type": "code",
        "colab": {}
      },
      "source": [
        "model.save_weights('plant_seedling_saved.h5') "
      ],
      "execution_count": 0,
      "outputs": []
    },
    {
      "cell_type": "code",
      "metadata": {
        "id": "qLFTkqFpK7GP",
        "colab_type": "code",
        "colab": {}
      },
      "source": [
        ""
      ],
      "execution_count": 0,
      "outputs": []
    }
  ]
}